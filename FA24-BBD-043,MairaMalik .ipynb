{
 "cells": [
  {
   "cell_type": "code",
   "execution_count": 1,
   "id": "ca908b18",
   "metadata": {},
   "outputs": [
    {
     "name": "stdout",
     "output_type": "stream",
     "text": [
      "Name: Maira malik, Age: 19, City: Lahore\n"
     ]
    }
   ],
   "source": [
    "#question no 1\n",
    "class Person:\n",
    "    def __init__(self, name, age, city):\n",
    "        self.name = name\n",
    "        self.age = age\n",
    "        self.city = city\n",
    "    def __str__(self):\n",
    "        return f\"Name: {self.name}, Age: {self.age}, City: {self.city}\"\n",
    "person1 = Person(\"Maira malik\", 19, \"Lahore\")\n",
    "print(person1)"
   ]
  },
  {
   "cell_type": "code",
   "execution_count": 2,
   "id": "8cad70ef",
   "metadata": {},
   "outputs": [
    {
     "name": "stdout",
     "output_type": "stream",
     "text": [
      "Make: Toyota, Model:Carola, Year:2024\n"
     ]
    }
   ],
   "source": [
    "#question no 2\n",
    "class Car:\n",
    "    def __init__(self, make, model, year):\n",
    "        self.make = make\n",
    "        self.model= model\n",
    "        self.year= year\n",
    "    def __str__(self):\n",
    "        return f\"Make: {self.make}, Model:{self.model}, Year:{self.year}\"\n",
    "car= Car(\"Toyota\",\"Carola\",2024)\n",
    "print(car)"
   ]
  },
  {
   "cell_type": "code",
   "execution_count": 14,
   "id": "870016e3",
   "metadata": {},
   "outputs": [
    {
     "name": "stdout",
     "output_type": "stream",
     "text": [
      "Circle with radius: 5\n",
      "Area: 78.54\n",
      "Circumference: 31.42\n"
     ]
    }
   ],
   "source": [
    "#question no 3\n",
    "import math\n",
    "\n",
    "class Circle:\n",
    "    def __init__(self, radius):\n",
    "        self.radius = radius\n",
    "    def area(self):\n",
    "        return math.pi * (self.radius ** 2)\n",
    "    def circumference(self):\n",
    "        return 2 * math.pi * self.radius\n",
    "    def __str__(self):\n",
    "        return f\"Circle with radius: {self.radius}\"\n",
    "circle = Circle(5)\n",
    "print(circle)\n",
    "print(f\"Area: {circle.area():.2f}\")\n",
    "print(f\"Circumference: {circle.circumference():.2f}\")"
   ]
  },
  {
   "cell_type": "code",
   "execution_count": 4,
   "id": "122c048d",
   "metadata": {},
   "outputs": [
    {
     "name": "stdout",
     "output_type": "stream",
     "text": [
      "Rectangle with length: 4 and width: 6\n",
      "Area: 24\n",
      "Perimeter: 20\n"
     ]
    }
   ],
   "source": [
    "#question no 4\n",
    "class Rectangle:\n",
    "    def __init__(self, length, width):\n",
    "        self.length = length\n",
    "        self.width = width\n",
    "    def area(self):\n",
    "        return self.length * self.width\n",
    "    def perimeter(self):\n",
    "        return 2 * (self.length + self.width)\n",
    "    def __str__(self):\n",
    "        return f\"Rectangle with length: {self.length} and width: {self.width}\"\n",
    "rectangle1 = Rectangle(4, 6)\n",
    "print(rectangle1)  \n",
    "print(f\"Area: {rectangle1.area()}\")\n",
    "print(f\"Perimeter: {rectangle1.perimeter()}\")"
   ]
  },
  {
   "cell_type": "code",
   "execution_count": 13,
   "id": "366a4cfa",
   "metadata": {},
   "outputs": [
    {
     "name": "stdout",
     "output_type": "stream",
     "text": [
      "Student Name: Maira Malik, Roll Number: 43\n",
      "Average Marks: 86.25\n"
     ]
    }
   ],
   "source": [
    "#question no 5\n",
    "class Student:\n",
    "    def __init__(self, name, roll_number, marks):\n",
    "        self.name = name\n",
    "        self.roll_number = roll_number\n",
    "        self.marks = marks\n",
    "    def average_marks(self):\n",
    "        return sum(self.marks) / len(self.marks) if self.marks else 0     \n",
    "    def __str__(self):\n",
    "        return f\"Student Name: {self.name}, Roll Number: {self.roll_number}\"\n",
    "student = Student(\"Maira Malik\", 43, [85, 90, 78, 92])\n",
    "print(student)\n",
    "print(f\"Average Marks: {student1.average_marks():.2f}\")"
   ]
  },
  {
   "cell_type": "code",
   "execution_count": 8,
   "id": "25ae9827",
   "metadata": {},
   "outputs": [
    {
     "name": "stdout",
     "output_type": "stream",
     "text": [
      "Book Title: To Kill a Mockingbird, Author: Harper Lee, Published Year: 1960\n"
     ]
    }
   ],
   "source": [
    "#question no 6\n",
    "class Book:\n",
    "    def __init__(self, title, author, publication_year):\n",
    "        self.title = title\n",
    "        self.author = author\n",
    "        self.publication_year = publication_year \n",
    "    def __str__(self):\n",
    "        return f\"Book Title: {self.title}, Author: {self.author}, Published Year: {self.publication_year}\"\n",
    "book = Book(\"To Kill a Mockingbird\", \"Harper Lee\", 1960)\n",
    "print(book)"
   ]
  },
  {
   "cell_type": "code",
   "execution_count": 9,
   "id": "29f81d0f",
   "metadata": {},
   "outputs": [
    {
     "name": "stdout",
     "output_type": "stream",
     "text": [
      "Employee Name: Maira Malik, Salary: $750000, Designation: Software Engineer\n"
     ]
    }
   ],
   "source": [
    "#question no 7\n",
    "class Employee:\n",
    "    def __init__(self, name, salary, designation):\n",
    "        self.name = name\n",
    "        self.salary = salary\n",
    "        self.designation = designation\n",
    "    def __str__(self):\n",
    "        return f\"Employee Name: {self.name}, Salary: ${self.salary}, Designation: {self.designation}\"\n",
    "employee = Employee(\"Maira Malik\", 750000, \"Software Engineer\")\n",
    "print(employee)"
   ]
  },
  {
   "cell_type": "code",
   "execution_count": 10,
   "id": "b56754aa",
   "metadata": {},
   "outputs": [
    {
     "name": "stdout",
     "output_type": "stream",
     "text": [
      "Bank Account: John Doe, Account Number: 1234567890, Balance: $500\n",
      "Deposited $200. New balance: $700\n",
      "Withdrew $100. New balance: $600\n",
      "Insufficient funds.\n"
     ]
    }
   ],
   "source": [
    "#question no 8\n",
    "class Bank:\n",
    "    def __init__(self, name, account_number, balance=0):\n",
    "        self.name = name\n",
    "        self.account_number = account_number\n",
    "        self.balance = balance\n",
    "    def deposit(self, amount):\n",
    "        if amount > 0:\n",
    "            self.balance += amount\n",
    "            print(f\"Deposited ${amount}. New balance: ${self.balance}\")\n",
    "        else:\n",
    "            print(\"Deposit amount must be greater than zero.\")\n",
    "    def withdraw(self, amount):\n",
    "        if amount > 0:\n",
    "            if amount <= self.balance:\n",
    "                self.balance -= amount\n",
    "                print(f\"Withdrew ${amount}. New balance: ${self.balance}\")\n",
    "            else:\n",
    "                print(\"Insufficient funds.\")\n",
    "        else:\n",
    "            print(\"Withdrawal amount must be greater than zero.\")\n",
    "    def __str__(self):\n",
    "        return f\"Bank Account: {self.name}, Account Number: {self.account_number}, Balance: ${self.balance}\"\n",
    "bank_account = Bank(\"John Doe\", \"1234567890\", 500)\n",
    "print(bank_account)\n",
    "bank_account.deposit(200)  \n",
    "bank_account.withdraw(100)  \n",
    "bank_account.withdraw(700) "
   ]
  },
  {
   "cell_type": "code",
   "execution_count": null,
   "id": "fad61304",
   "metadata": {},
   "outputs": [],
   "source": []
  }
 ],
 "metadata": {
  "kernelspec": {
   "display_name": "Python 3 (ipykernel)",
   "language": "python",
   "name": "python3"
  },
  "language_info": {
   "codemirror_mode": {
    "name": "ipython",
    "version": 3
   },
   "file_extension": ".py",
   "mimetype": "text/x-python",
   "name": "python",
   "nbconvert_exporter": "python",
   "pygments_lexer": "ipython3",
   "version": "3.11.5"
  }
 },
 "nbformat": 4,
 "nbformat_minor": 5
}
